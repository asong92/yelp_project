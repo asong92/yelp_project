{
 "cells": [
  {
   "cell_type": "code",
   "execution_count": 6,
   "metadata": {
    "collapsed": true
   },
   "outputs": [],
   "source": [
    "import pandas as pd\n",
    "import numpy as np\n",
    "import matplotlib.pyplot as plt\n",
    "import os\n",
    "from sklearn.cross_validation import train_test_split\n",
    "\n",
    "%matplotlib inline\n",
    "\n",
    "# Limit rows disp# Limit rows displayed in notebook\n",
    "pd.set_option('display.max_rows', 20)\n",
    "pd.set_option('display.precision', 2)"
   ]
  },
  {
   "cell_type": "code",
   "execution_count": 38,
   "metadata": {
    "collapsed": false
   },
   "outputs": [
    {
     "data": {
      "text/html": [
       "<div style=\"max-height:1000px;max-width:1500px;overflow:auto;\">\n",
       "<table border=\"1\" class=\"dataframe\">\n",
       "  <thead>\n",
       "    <tr style=\"text-align: right;\">\n",
       "      <th></th>\n",
       "      <th>open</th>\n",
       "      <th>review_count</th>\n",
       "      <th>stars</th>\n",
       "      <th>cat.Active Life</th>\n",
       "      <th>cat.Adult Entertainment</th>\n",
       "      <th>cat.Afghan</th>\n",
       "      <th>cat.African</th>\n",
       "      <th>cat.Airports</th>\n",
       "      <th>cat.American (New)</th>\n",
       "      <th>cat.American (Traditional)</th>\n",
       "      <th>...</th>\n",
       "      <th>avg_topic_40</th>\n",
       "      <th>avg_topic_41</th>\n",
       "      <th>avg_topic_42</th>\n",
       "      <th>avg_topic_43</th>\n",
       "      <th>avg_topic_44</th>\n",
       "      <th>avg_topic_45</th>\n",
       "      <th>avg_topic_46</th>\n",
       "      <th>avg_topic_47</th>\n",
       "      <th>avg_topic_48</th>\n",
       "      <th>avg_topic_49</th>\n",
       "    </tr>\n",
       "  </thead>\n",
       "  <tbody>\n",
       "    <tr>\n",
       "      <th>0</th>\n",
       "      <td> 1</td>\n",
       "      <td>  23</td>\n",
       "      <td> 2.5</td>\n",
       "      <td> 0</td>\n",
       "      <td> 0</td>\n",
       "      <td> 0</td>\n",
       "      <td> 0</td>\n",
       "      <td> 0</td>\n",
       "      <td> 1</td>\n",
       "      <td> 0</td>\n",
       "      <td>...</td>\n",
       "      <td> 0</td>\n",
       "      <td> 0.0</td>\n",
       "      <td> 0</td>\n",
       "      <td> 0</td>\n",
       "      <td> 0</td>\n",
       "      <td> 0</td>\n",
       "      <td> 0.0</td>\n",
       "      <td> 0</td>\n",
       "      <td> 0.0</td>\n",
       "      <td> 0.0</td>\n",
       "    </tr>\n",
       "    <tr>\n",
       "      <th>1</th>\n",
       "      <td> 1</td>\n",
       "      <td> 322</td>\n",
       "      <td> 4.0</td>\n",
       "      <td> 0</td>\n",
       "      <td> 0</td>\n",
       "      <td> 0</td>\n",
       "      <td> 0</td>\n",
       "      <td> 0</td>\n",
       "      <td> 0</td>\n",
       "      <td> 0</td>\n",
       "      <td>...</td>\n",
       "      <td> 0</td>\n",
       "      <td> 0.0</td>\n",
       "      <td> 0</td>\n",
       "      <td> 0</td>\n",
       "      <td> 0</td>\n",
       "      <td> 0</td>\n",
       "      <td> 0.0</td>\n",
       "      <td> 0</td>\n",
       "      <td> 0.0</td>\n",
       "      <td> 0.0</td>\n",
       "    </tr>\n",
       "    <tr>\n",
       "      <th>2</th>\n",
       "      <td> 1</td>\n",
       "      <td> 191</td>\n",
       "      <td> 3.5</td>\n",
       "      <td> 0</td>\n",
       "      <td> 0</td>\n",
       "      <td> 0</td>\n",
       "      <td> 0</td>\n",
       "      <td> 0</td>\n",
       "      <td> 0</td>\n",
       "      <td> 0</td>\n",
       "      <td>...</td>\n",
       "      <td> 0</td>\n",
       "      <td> 0.0</td>\n",
       "      <td> 0</td>\n",
       "      <td> 0</td>\n",
       "      <td> 0</td>\n",
       "      <td> 0</td>\n",
       "      <td> 0.1</td>\n",
       "      <td> 0</td>\n",
       "      <td> 0.1</td>\n",
       "      <td> 0.0</td>\n",
       "    </tr>\n",
       "    <tr>\n",
       "      <th>3</th>\n",
       "      <td> 1</td>\n",
       "      <td> 170</td>\n",
       "      <td> 3.5</td>\n",
       "      <td> 0</td>\n",
       "      <td> 0</td>\n",
       "      <td> 0</td>\n",
       "      <td> 0</td>\n",
       "      <td> 0</td>\n",
       "      <td> 0</td>\n",
       "      <td> 1</td>\n",
       "      <td>...</td>\n",
       "      <td> 0</td>\n",
       "      <td> 0.0</td>\n",
       "      <td> 0</td>\n",
       "      <td> 0</td>\n",
       "      <td> 0</td>\n",
       "      <td> 0</td>\n",
       "      <td> 0.0</td>\n",
       "      <td> 0</td>\n",
       "      <td> 0.0</td>\n",
       "      <td> 0.0</td>\n",
       "    </tr>\n",
       "    <tr>\n",
       "      <th>4</th>\n",
       "      <td> 1</td>\n",
       "      <td> 204</td>\n",
       "      <td> 4.0</td>\n",
       "      <td> 0</td>\n",
       "      <td> 0</td>\n",
       "      <td> 0</td>\n",
       "      <td> 0</td>\n",
       "      <td> 0</td>\n",
       "      <td> 0</td>\n",
       "      <td> 0</td>\n",
       "      <td>...</td>\n",
       "      <td> 0</td>\n",
       "      <td> 0.1</td>\n",
       "      <td> 0</td>\n",
       "      <td> 0</td>\n",
       "      <td> 0</td>\n",
       "      <td> 0</td>\n",
       "      <td> 0.0</td>\n",
       "      <td> 0</td>\n",
       "      <td> 0.1</td>\n",
       "      <td> 0.1</td>\n",
       "    </tr>\n",
       "  </tbody>\n",
       "</table>\n",
       "<p>5 rows × 373 columns</p>\n",
       "</div>"
      ],
      "text/plain": [
       "   open  review_count  stars  cat.Active Life  cat.Adult Entertainment  \\\n",
       "0     1            23    2.5                0                        0   \n",
       "1     1           322    4.0                0                        0   \n",
       "2     1           191    3.5                0                        0   \n",
       "3     1           170    3.5                0                        0   \n",
       "4     1           204    4.0                0                        0   \n",
       "\n",
       "   cat.Afghan  cat.African  cat.Airports  cat.American (New)  \\\n",
       "0           0            0             0                   1   \n",
       "1           0            0             0                   0   \n",
       "2           0            0             0                   0   \n",
       "3           0            0             0                   0   \n",
       "4           0            0             0                   0   \n",
       "\n",
       "   cat.American (Traditional)      ...       avg_topic_40  avg_topic_41  \\\n",
       "0                           0      ...                  0           0.0   \n",
       "1                           0      ...                  0           0.0   \n",
       "2                           0      ...                  0           0.0   \n",
       "3                           1      ...                  0           0.0   \n",
       "4                           0      ...                  0           0.1   \n",
       "\n",
       "   avg_topic_42  avg_topic_43  avg_topic_44  avg_topic_45  avg_topic_46  \\\n",
       "0             0             0             0             0           0.0   \n",
       "1             0             0             0             0           0.0   \n",
       "2             0             0             0             0           0.1   \n",
       "3             0             0             0             0           0.0   \n",
       "4             0             0             0             0           0.0   \n",
       "\n",
       "   avg_topic_47  avg_topic_48  avg_topic_49  \n",
       "0             0           0.0           0.0  \n",
       "1             0           0.0           0.0  \n",
       "2             0           0.1           0.0  \n",
       "3             0           0.0           0.0  \n",
       "4             0           0.1           0.1  \n",
       "\n",
       "[5 rows x 373 columns]"
      ]
     },
     "execution_count": 38,
     "metadata": {},
     "output_type": "execute_result"
    }
   ],
   "source": [
    "restaurants = pd.read_pickle('restaurant/restaurant_with_topic_dist.pkl')\n",
    "restaurants.head()"
   ]
  },
  {
   "cell_type": "code",
   "execution_count": 39,
   "metadata": {
    "collapsed": false
   },
   "outputs": [
    {
     "data": {
      "text/html": [
       "<div style=\"max-height:1000px;max-width:1500px;overflow:auto;\">\n",
       "<table border=\"1\" class=\"dataframe\">\n",
       "  <thead>\n",
       "    <tr style=\"text-align: right;\">\n",
       "      <th></th>\n",
       "      <th>open</th>\n",
       "      <th>review_count</th>\n",
       "      <th>cat.Active Life</th>\n",
       "      <th>cat.Adult Entertainment</th>\n",
       "      <th>cat.Afghan</th>\n",
       "      <th>cat.African</th>\n",
       "      <th>cat.Airports</th>\n",
       "      <th>cat.American (New)</th>\n",
       "      <th>cat.American (Traditional)</th>\n",
       "      <th>cat.Amusement Parks</th>\n",
       "      <th>...</th>\n",
       "      <th>avg_topic_40</th>\n",
       "      <th>avg_topic_41</th>\n",
       "      <th>avg_topic_42</th>\n",
       "      <th>avg_topic_43</th>\n",
       "      <th>avg_topic_44</th>\n",
       "      <th>avg_topic_45</th>\n",
       "      <th>avg_topic_46</th>\n",
       "      <th>avg_topic_47</th>\n",
       "      <th>avg_topic_48</th>\n",
       "      <th>avg_topic_49</th>\n",
       "    </tr>\n",
       "  </thead>\n",
       "  <tbody>\n",
       "    <tr>\n",
       "      <th>0</th>\n",
       "      <td> 1</td>\n",
       "      <td>  23</td>\n",
       "      <td> 0</td>\n",
       "      <td> 0</td>\n",
       "      <td> 0</td>\n",
       "      <td> 0</td>\n",
       "      <td> 0</td>\n",
       "      <td> 1</td>\n",
       "      <td> 0</td>\n",
       "      <td> 0</td>\n",
       "      <td>...</td>\n",
       "      <td> 0</td>\n",
       "      <td> 0.0</td>\n",
       "      <td> 0</td>\n",
       "      <td> 0</td>\n",
       "      <td> 0</td>\n",
       "      <td> 0</td>\n",
       "      <td> 0.0</td>\n",
       "      <td> 0</td>\n",
       "      <td> 0.0</td>\n",
       "      <td> 0.0</td>\n",
       "    </tr>\n",
       "    <tr>\n",
       "      <th>1</th>\n",
       "      <td> 1</td>\n",
       "      <td> 322</td>\n",
       "      <td> 0</td>\n",
       "      <td> 0</td>\n",
       "      <td> 0</td>\n",
       "      <td> 0</td>\n",
       "      <td> 0</td>\n",
       "      <td> 0</td>\n",
       "      <td> 0</td>\n",
       "      <td> 0</td>\n",
       "      <td>...</td>\n",
       "      <td> 0</td>\n",
       "      <td> 0.0</td>\n",
       "      <td> 0</td>\n",
       "      <td> 0</td>\n",
       "      <td> 0</td>\n",
       "      <td> 0</td>\n",
       "      <td> 0.0</td>\n",
       "      <td> 0</td>\n",
       "      <td> 0.0</td>\n",
       "      <td> 0.0</td>\n",
       "    </tr>\n",
       "    <tr>\n",
       "      <th>2</th>\n",
       "      <td> 1</td>\n",
       "      <td> 191</td>\n",
       "      <td> 0</td>\n",
       "      <td> 0</td>\n",
       "      <td> 0</td>\n",
       "      <td> 0</td>\n",
       "      <td> 0</td>\n",
       "      <td> 0</td>\n",
       "      <td> 0</td>\n",
       "      <td> 0</td>\n",
       "      <td>...</td>\n",
       "      <td> 0</td>\n",
       "      <td> 0.0</td>\n",
       "      <td> 0</td>\n",
       "      <td> 0</td>\n",
       "      <td> 0</td>\n",
       "      <td> 0</td>\n",
       "      <td> 0.1</td>\n",
       "      <td> 0</td>\n",
       "      <td> 0.1</td>\n",
       "      <td> 0.0</td>\n",
       "    </tr>\n",
       "    <tr>\n",
       "      <th>3</th>\n",
       "      <td> 1</td>\n",
       "      <td> 170</td>\n",
       "      <td> 0</td>\n",
       "      <td> 0</td>\n",
       "      <td> 0</td>\n",
       "      <td> 0</td>\n",
       "      <td> 0</td>\n",
       "      <td> 0</td>\n",
       "      <td> 1</td>\n",
       "      <td> 0</td>\n",
       "      <td>...</td>\n",
       "      <td> 0</td>\n",
       "      <td> 0.0</td>\n",
       "      <td> 0</td>\n",
       "      <td> 0</td>\n",
       "      <td> 0</td>\n",
       "      <td> 0</td>\n",
       "      <td> 0.0</td>\n",
       "      <td> 0</td>\n",
       "      <td> 0.0</td>\n",
       "      <td> 0.0</td>\n",
       "    </tr>\n",
       "    <tr>\n",
       "      <th>4</th>\n",
       "      <td> 1</td>\n",
       "      <td> 204</td>\n",
       "      <td> 0</td>\n",
       "      <td> 0</td>\n",
       "      <td> 0</td>\n",
       "      <td> 0</td>\n",
       "      <td> 0</td>\n",
       "      <td> 0</td>\n",
       "      <td> 0</td>\n",
       "      <td> 0</td>\n",
       "      <td>...</td>\n",
       "      <td> 0</td>\n",
       "      <td> 0.1</td>\n",
       "      <td> 0</td>\n",
       "      <td> 0</td>\n",
       "      <td> 0</td>\n",
       "      <td> 0</td>\n",
       "      <td> 0.0</td>\n",
       "      <td> 0</td>\n",
       "      <td> 0.1</td>\n",
       "      <td> 0.1</td>\n",
       "    </tr>\n",
       "  </tbody>\n",
       "</table>\n",
       "<p>5 rows × 372 columns</p>\n",
       "</div>"
      ],
      "text/plain": [
       "   open  review_count  cat.Active Life  cat.Adult Entertainment  cat.Afghan  \\\n",
       "0     1            23                0                        0           0   \n",
       "1     1           322                0                        0           0   \n",
       "2     1           191                0                        0           0   \n",
       "3     1           170                0                        0           0   \n",
       "4     1           204                0                        0           0   \n",
       "\n",
       "   cat.African  cat.Airports  cat.American (New)  cat.American (Traditional)  \\\n",
       "0            0             0                   1                           0   \n",
       "1            0             0                   0                           0   \n",
       "2            0             0                   0                           0   \n",
       "3            0             0                   0                           1   \n",
       "4            0             0                   0                           0   \n",
       "\n",
       "   cat.Amusement Parks      ...       avg_topic_40  avg_topic_41  \\\n",
       "0                    0      ...                  0           0.0   \n",
       "1                    0      ...                  0           0.0   \n",
       "2                    0      ...                  0           0.0   \n",
       "3                    0      ...                  0           0.0   \n",
       "4                    0      ...                  0           0.1   \n",
       "\n",
       "   avg_topic_42  avg_topic_43  avg_topic_44  avg_topic_45  avg_topic_46  \\\n",
       "0             0             0             0             0           0.0   \n",
       "1             0             0             0             0           0.0   \n",
       "2             0             0             0             0           0.1   \n",
       "3             0             0             0             0           0.0   \n",
       "4             0             0             0             0           0.0   \n",
       "\n",
       "   avg_topic_47  avg_topic_48  avg_topic_49  \n",
       "0             0           0.0           0.0  \n",
       "1             0           0.0           0.0  \n",
       "2             0           0.1           0.0  \n",
       "3             0           0.0           0.0  \n",
       "4             0           0.1           0.1  \n",
       "\n",
       "[5 rows x 372 columns]"
      ]
     },
     "execution_count": 39,
     "metadata": {},
     "output_type": "execute_result"
    }
   ],
   "source": [
    "y = restaurants.stars\n",
    "X = restaurants.copy()\n",
    "del X['stars']\n",
    "X.head()"
   ]
  },
  {
   "cell_type": "markdown",
   "metadata": {},
   "source": [
    "## Linear regression"
   ]
  },
  {
   "cell_type": "markdown",
   "metadata": {},
   "source": [
    "### Run linear regression on the set of features from the business dataset (excluding attributes about reviews)"
   ]
  },
  {
   "cell_type": "code",
   "execution_count": 78,
   "metadata": {
    "collapsed": false
   },
   "outputs": [
    {
     "data": {
      "text/plain": [
       "LinearRegression(copy_X=True, fit_intercept=True, normalize=False)"
      ]
     },
     "execution_count": 78,
     "metadata": {},
     "output_type": "execute_result"
    }
   ],
   "source": [
    "from sklearn.cross_validation import train_test_split\n",
    "from sklearn.linear_model import LinearRegression\n",
    "# features from just the business data set\n",
    "X_1 = X.loc[:,:'wifi.paid']\n",
    "\n",
    "X_train, X_test, y_train, y_test = train_test_split(X_1, y, test_size=0.3, random_state=12)\n",
    "\n",
    "reg1 = LinearRegression()\n",
    "reg1.fit(X_train, y_train)\n"
   ]
  },
  {
   "cell_type": "code",
   "execution_count": 79,
   "metadata": {
    "collapsed": false
   },
   "outputs": [
    {
     "name": "stdout",
     "output_type": "stream",
     "text": [
      "Residual sum of squares:\n"
     ]
    },
    {
     "data": {
      "text/plain": [
       "0.26592483222882335"
      ]
     },
     "execution_count": 79,
     "metadata": {},
     "output_type": "execute_result"
    }
   ],
   "source": [
    "predicted = reg1.predict(X_test)\n",
    "print 'Residual sum of squares:'\n",
    "np.mean((predicted - y_test) ** 2)"
   ]
  },
  {
   "cell_type": "code",
   "execution_count": 80,
   "metadata": {
    "collapsed": false
   },
   "outputs": [
    {
     "name": "stdout",
     "output_type": "stream",
     "text": [
      "Score:\n"
     ]
    },
    {
     "data": {
      "text/plain": [
       "0.17894322199272183"
      ]
     },
     "execution_count": 80,
     "metadata": {},
     "output_type": "execute_result"
    }
   ],
   "source": [
    "print 'Score:'\n",
    "reg1.score(X_test, y_test)"
   ]
  },
  {
   "cell_type": "markdown",
   "metadata": {},
   "source": [
    "#### Scoring model with cross validation"
   ]
  },
  {
   "cell_type": "code",
   "execution_count": 81,
   "metadata": {
    "collapsed": false
   },
   "outputs": [
    {
     "name": "stdout",
     "output_type": "stream",
     "text": [
      "5-fold cross validation scores:\n",
      "[ 0.18809425  0.19408245  0.13636728  0.17114252  0.07577891]\n",
      "\n",
      "Mean Score: 0.153093\n"
     ]
    }
   ],
   "source": [
    "from sklearn.cross_validation import cross_val_score\n",
    "scores = cross_val_score(reg1, X_1, y, cv=5)\n",
    "print \"5-fold cross validation scores:\"\n",
    "print scores\n",
    "print\n",
    "print \"Mean Score: %f\" % scores.mean()"
   ]
  },
  {
   "cell_type": "code",
   "execution_count": 82,
   "metadata": {
    "collapsed": false
   },
   "outputs": [
    {
     "data": {
      "text/html": [
       "<div style=\"max-height:1000px;max-width:1500px;overflow:auto;\">\n",
       "<table border=\"1\" class=\"dataframe\">\n",
       "  <thead>\n",
       "    <tr style=\"text-align: right;\">\n",
       "      <th></th>\n",
       "      <th>Features</th>\n",
       "      <th>Coefficient</th>\n",
       "    </tr>\n",
       "  </thead>\n",
       "  <tbody>\n",
       "    <tr>\n",
       "      <th>40 </th>\n",
       "      <td>  cat.Bubble Tea</td>\n",
       "      <td> 1.2</td>\n",
       "    </tr>\n",
       "    <tr>\n",
       "      <th>108</th>\n",
       "      <td> cat.Food Stands</td>\n",
       "      <td> 1.1</td>\n",
       "    </tr>\n",
       "    <tr>\n",
       "      <th>185</th>\n",
       "      <td>  cat.Pool Halls</td>\n",
       "      <td> 0.9</td>\n",
       "    </tr>\n",
       "    <tr>\n",
       "      <th>184</th>\n",
       "      <td>      cat.Polish</td>\n",
       "      <td> 0.9</td>\n",
       "    </tr>\n",
       "    <tr>\n",
       "      <th>198</th>\n",
       "      <td>  cat.Salvadoran</td>\n",
       "      <td> 0.7</td>\n",
       "    </tr>\n",
       "  </tbody>\n",
       "</table>\n",
       "</div>"
      ],
      "text/plain": [
       "            Features  Coefficient\n",
       "40    cat.Bubble Tea          1.2\n",
       "108  cat.Food Stands          1.1\n",
       "185   cat.Pool Halls          0.9\n",
       "184       cat.Polish          0.9\n",
       "198   cat.Salvadoran          0.7"
      ]
     },
     "execution_count": 82,
     "metadata": {},
     "output_type": "execute_result"
    }
   ],
   "source": [
    "coef_1= pd.DataFrame(zip(X_1.columns.values, reg1.coef_), columns=['Features', 'Coefficient'])\n",
    "coef_1.sort(columns='Coefficient',ascending=False).head()"
   ]
  },
  {
   "cell_type": "markdown",
   "metadata": {},
   "source": [
    "### Run linear regression with review attributes added (including topic features)"
   ]
  },
  {
   "cell_type": "code",
   "execution_count": 83,
   "metadata": {
    "collapsed": false
   },
   "outputs": [
    {
     "data": {
      "text/plain": [
       "LinearRegression(copy_X=True, fit_intercept=True, normalize=False)"
      ]
     },
     "execution_count": 83,
     "metadata": {},
     "output_type": "execute_result"
    }
   ],
   "source": [
    "X_2 = X\n",
    "\n",
    "X_train, X_test, y_train, y_test = train_test_split(X_2, y, test_size=0.3, random_state=12)\n",
    "\n",
    "reg2 = LinearRegression()\n",
    "reg2.fit(X_train, y_train)"
   ]
  },
  {
   "cell_type": "code",
   "execution_count": 84,
   "metadata": {
    "collapsed": false
   },
   "outputs": [
    {
     "data": {
      "text/html": [
       "<div style=\"max-height:1000px;max-width:1500px;overflow:auto;\">\n",
       "<table border=\"1\" class=\"dataframe\">\n",
       "  <thead>\n",
       "    <tr style=\"text-align: right;\">\n",
       "      <th></th>\n",
       "      <th>Features</th>\n",
       "      <th>Coefficient</th>\n",
       "    </tr>\n",
       "  </thead>\n",
       "  <tbody>\n",
       "    <tr>\n",
       "      <th>40 </th>\n",
       "      <td>  cat.Bubble Tea</td>\n",
       "      <td> 1.4</td>\n",
       "    </tr>\n",
       "    <tr>\n",
       "      <th>108</th>\n",
       "      <td> cat.Food Stands</td>\n",
       "      <td> 1.1</td>\n",
       "    </tr>\n",
       "    <tr>\n",
       "      <th>185</th>\n",
       "      <td>  cat.Pool Halls</td>\n",
       "      <td> 1.0</td>\n",
       "    </tr>\n",
       "    <tr>\n",
       "      <th>184</th>\n",
       "      <td>      cat.Polish</td>\n",
       "      <td> 0.8</td>\n",
       "    </tr>\n",
       "    <tr>\n",
       "      <th>228</th>\n",
       "      <td>  cat.Teppanyaki</td>\n",
       "      <td> 0.8</td>\n",
       "    </tr>\n",
       "  </tbody>\n",
       "</table>\n",
       "</div>"
      ],
      "text/plain": [
       "            Features  Coefficient\n",
       "40    cat.Bubble Tea          1.4\n",
       "108  cat.Food Stands          1.1\n",
       "185   cat.Pool Halls          1.0\n",
       "184       cat.Polish          0.8\n",
       "228   cat.Teppanyaki          0.8"
      ]
     },
     "execution_count": 84,
     "metadata": {},
     "output_type": "execute_result"
    }
   ],
   "source": [
    "coef_2= pd.DataFrame(zip(X.columns.values, reg2.coef_), columns=['Features', 'Coefficient'])\n",
    "coef_2.sort(columns='Coefficient',ascending=False).head()"
   ]
  },
  {
   "cell_type": "code",
   "execution_count": 85,
   "metadata": {
    "collapsed": false
   },
   "outputs": [
    {
     "name": "stdout",
     "output_type": "stream",
     "text": [
      "Residual sum of squares:\n"
     ]
    },
    {
     "data": {
      "text/plain": [
       "0.26592483222882335"
      ]
     },
     "execution_count": 85,
     "metadata": {},
     "output_type": "execute_result"
    }
   ],
   "source": [
    "predicted2 = reg2.predict(X_test)\n",
    "print 'Residual sum of squares:'\n",
    "np.mean((predicted - y_test) ** 2)"
   ]
  },
  {
   "cell_type": "code",
   "execution_count": 77,
   "metadata": {
    "collapsed": false
   },
   "outputs": [
    {
     "name": "stdout",
     "output_type": "stream",
     "text": [
      "5-fold cross validation scores:\n",
      "[ 0.18809425  0.19408245  0.13636728  0.17114252  0.07577891]\n",
      "\n",
      "Mean Score: 0.153093\n"
     ]
    }
   ],
   "source": [
    "scores = cross_val_score(reg2, X_1, y, cv=5)\n",
    "print \"5-fold cross validation scores:\"\n",
    "print scores\n",
    "print\n",
    "print \"Mean Score: %f\" % scores.mean()"
   ]
  }
 ],
 "metadata": {
  "kernelspec": {
   "display_name": "Python 2",
   "language": "python",
   "name": "python2"
  },
  "language_info": {
   "codemirror_mode": {
    "name": "ipython",
    "version": 2
   },
   "file_extension": ".py",
   "mimetype": "text/x-python",
   "name": "python",
   "nbconvert_exporter": "python",
   "pygments_lexer": "ipython2",
   "version": "2.7.9"
  }
 },
 "nbformat": 4,
 "nbformat_minor": 0
}
