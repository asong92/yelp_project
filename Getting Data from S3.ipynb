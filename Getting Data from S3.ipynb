{
 "cells": [
  {
   "cell_type": "markdown",
   "metadata": {},
   "source": [
    "## Connecting to S3 and Getting the Data"
   ]
  },
  {
   "cell_type": "code",
   "execution_count": 3,
   "metadata": {
    "collapsed": true
   },
   "outputs": [],
   "source": [
    "import pandas as pd\n",
    "from boto.s3.connection import S3Connection"
   ]
  },
  {
   "cell_type": "code",
   "execution_count": null,
   "metadata": {
    "collapsed": true
   },
   "outputs": [],
   "source": [
    "cd ..\n",
    "# mkdir review\n",
    "# mkdir restaurant"
   ]
  },
  {
   "cell_type": "code",
   "execution_count": 15,
   "metadata": {
    "collapsed": false
   },
   "outputs": [],
   "source": [
    "credentials = pd.read_csv('/home/ubuntu/data_science/awscredentials.csv')\n",
    "\n",
    "s3conn = S3Connection(credentials['AWSAccessKeyId'][0], credentials['AWSSecretKey'][0]) \n",
    "yelp_data = s3conn.get_bucket('gads')\n",
    "\n",
    "review_keys = yelp_data.get_all_keys(prefix='review')\n",
    "for key in review_keys:\n",
    "    if key.name.endswith('/'):\n",
    "        continue\n",
    "    else:\n",
    "        key.get_contents_to_filename(key.name)\n",
    "\n",
    "restaurant_keys = yelp_data.get_all_keys(prefix='restaurant')\n",
    "for key in restaurant_keys:\n",
    "    if key.name.endswith('/'):\n",
    "        continue\n",
    "    else:\n",
    "        key.get_contents_to_filename(key.name)"
   ]
  }
 ],
 "metadata": {
  "kernelspec": {
   "display_name": "Python 2",
   "language": "python",
   "name": "python2"
  },
  "language_info": {
   "codemirror_mode": {
    "name": "ipython",
    "version": 2
   },
   "file_extension": ".py",
   "mimetype": "text/x-python",
   "name": "python",
   "nbconvert_exporter": "python",
   "pygments_lexer": "ipython2",
   "version": "2.7.9"
  }
 },
 "nbformat": 4,
 "nbformat_minor": 0
}
